{
 "cells": [
  {
   "cell_type": "code",
   "execution_count": 1,
   "id": "6644047f-4a31-48a9-b9e6-3102fdc6029a",
   "metadata": {},
   "outputs": [],
   "source": [
    "import pandas as pd\n",
    "from sklearn.preprocessing import LabelEncoder\n",
    "from sklearn.metrics.pairwise import cosine_similarity\n",
    "import numpy as np"
   ]
  },
  {
   "cell_type": "code",
   "execution_count": 2,
   "id": "7bf6303d-d6bb-45fe-a1b2-18e039ba1197",
   "metadata": {},
   "outputs": [],
   "source": [
    "# Load the data from CSV files\n",
    "customers = pd.read_csv('Customers.csv')\n",
    "products = pd.read_csv('Products.csv')\n",
    "transactions = pd.read_csv('Transactions.csv')"
   ]
  },
  {
   "cell_type": "code",
   "execution_count": 3,
   "id": "f6a55435-4a3e-4ae0-a3cb-a00fbd7dc603",
   "metadata": {},
   "outputs": [],
   "source": [
    "# Encoding the 'Region' feature using LabelEncoder\n",
    "le = LabelEncoder()\n",
    "customers['Region_encoded'] = le.fit_transform(customers['Region'])"
   ]
  },
  {
   "cell_type": "code",
   "execution_count": 4,
   "id": "2638db69-c9cc-448e-9b77-006cf57bacca",
   "metadata": {},
   "outputs": [],
   "source": [
    "# Feature 1: Days since signup\n",
    "customers['Days_since_signup'] = (pd.to_datetime('today') - pd.to_datetime(customers['SignupDate'])).dt.days\n",
    "\n",
    "# Merge transactions with products to get the Price and Category information\n",
    "merged_data = pd.merge(transactions, products[['ProductID', 'Price', 'Category']], on='ProductID', how='left')\n",
    "\n",
    "# Aggregate transaction data for each customer\n",
    "customer_transactions = merged_data.groupby('CustomerID').agg(\n",
    "    total_purchases=('TransactionID', 'count'),\n",
    "    total_spending=('TotalValue', 'sum'),\n",
    "    avg_purchase_amount=('TotalValue', 'mean'),\n",
    "    most_frequent_category=('Category', lambda x: x.mode()[0])\n",
    ").reset_index()\n",
    "\n",
    "# Merge the customer profile features with transaction features\n",
    "customer_profiles = customers[['CustomerID', 'Region_encoded', 'Days_since_signup']].merge(customer_transactions, on='CustomerID')\n",
    "\n",
    "# Create a feature vector for each customer by combining profile and transaction features\n",
    "customer_profiles['profile_vector'] = customer_profiles[['Region_encoded', 'Days_since_signup', 'total_purchases', 'total_spending', 'avg_purchase_amount']].apply(lambda x: x.values, axis=1)\n",
    "\n",
    "# Normalize the feature vectors for similarity calculation\n",
    "normalized_profiles = np.array([np.array(vec) / np.linalg.norm(vec) if np.linalg.norm(vec) != 0 else vec for vec in customer_profiles['profile_vector']])"
   ]
  },
  {
   "cell_type": "code",
   "execution_count": 5,
   "id": "ba08e6a6-f780-442d-9d1e-5fb2a1269a88",
   "metadata": {},
   "outputs": [],
   "source": [
    "# Calculate cosine similarity between each customer and all other customers\n",
    "similarity_matrix = cosine_similarity(normalized_profiles)\n",
    "\n",
    "# Create a DataFrame to store the similarity scores for each customer\n",
    "lookalike_data = {}"
   ]
  },
  {
   "cell_type": "code",
   "execution_count": 6,
   "id": "85cedaf8-62a3-41bb-86ae-cc7d65890703",
   "metadata": {},
   "outputs": [],
   "source": [
    "# Loop over the first 20 customers and get top 3 lookalikes\n",
    "for idx, customer_id in enumerate(customer_profiles['CustomerID'][:20]):\n",
    "    similarities = similarity_matrix[idx]\n",
    "    top_3_indices = similarities.argsort()[-4:-1][::-1]  # Exclude the customer itself (index 0)\n",
    "    top_3_similar_customers = [(customer_profiles['CustomerID'].iloc[i], similarities[i]) for i in top_3_indices]\n",
    "    lookalike_data[customer_id] = top_3_similar_customers"
   ]
  },
  {
   "cell_type": "code",
   "execution_count": 7,
   "id": "c481d390-e7df-4351-9fe5-20558b80372e",
   "metadata": {},
   "outputs": [],
   "source": [
    "# Convert the data into a DataFrame for the 'Lookalike.csv' file\n",
    "lookalike_df = []\n",
    "for cust_id, recommendations in lookalike_data.items():\n",
    "    for rec in recommendations:\n",
    "        lookalike_df.append([cust_id, rec[0], rec[1]])\n",
    "\n",
    "lookalike_df = pd.DataFrame(lookalike_df, columns=['CustomerID', 'Lookalike_CustomerID', 'Similarity_Score'])"
   ]
  },
  {
   "cell_type": "code",
   "execution_count": 8,
   "id": "9dc551d1-3939-404d-96bc-da1a1d16b045",
   "metadata": {},
   "outputs": [
    {
     "name": "stdout",
     "output_type": "stream",
     "text": [
      "  CustomerID Lookalike_CustomerID  Similarity_Score\n",
      "0      C0001                C0174          0.999992\n",
      "1      C0001                C0106          0.999918\n",
      "2      C0001                C0088          0.999914\n",
      "3      C0002                C0029          0.999973\n",
      "4      C0002                C0025          0.999968\n"
     ]
    }
   ],
   "source": [
    "# Save the results to 'Lookalike.csv'\n",
    "lookalike_df.to_csv('Lookalike.csv', index=False)\n",
    "\n",
    "# Output a preview of the lookalike recommendations\n",
    "print(lookalike_df.head())"
   ]
  },
  {
   "cell_type": "code",
   "execution_count": 9,
   "id": "f25ecacb-acc0-4b7f-82e5-7956749dfdde",
   "metadata": {},
   "outputs": [
    {
     "name": "stdout",
     "output_type": "stream",
     "text": [
      "  CustomerID Lookalike_CustomerID  Similarity_Score\n",
      "0      C0001                C0174          0.999992\n",
      "1      C0001                C0106          0.999918\n",
      "2      C0001                C0088          0.999914\n"
     ]
    }
   ],
   "source": [
    "import pandas as pd\n",
    "lookalike_df = pd.read_csv('Lookalike.csv')\n",
    "print(lookalike_df.head(3))"
   ]
  },
  {
   "cell_type": "code",
   "execution_count": null,
   "id": "76084b57-1fed-4fcc-82a8-ffbadf059514",
   "metadata": {},
   "outputs": [],
   "source": []
  }
 ],
 "metadata": {
  "kernelspec": {
   "display_name": "Python 3 (ipykernel)",
   "language": "python",
   "name": "python3"
  },
  "language_info": {
   "codemirror_mode": {
    "name": "ipython",
    "version": 3
   },
   "file_extension": ".py",
   "mimetype": "text/x-python",
   "name": "python",
   "nbconvert_exporter": "python",
   "pygments_lexer": "ipython3",
   "version": "3.10.12"
  }
 },
 "nbformat": 4,
 "nbformat_minor": 5
}
